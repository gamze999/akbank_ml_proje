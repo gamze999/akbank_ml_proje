{
 "cells": [
  {
   "metadata": {
    "ExecuteTime": {
     "end_time": "2024-05-06T20:26:27.379620Z",
     "start_time": "2024-05-06T20:26:27.365024Z"
    }
   },
   "cell_type": "code",
   "source": [
    "import pandas as pd\n",
    "import matplotlib.pyplot as plt\n",
    "import seaborn as sns\n",
    "import numpy as np\n",
    "from sklearn.preprocessing import LabelEncoder\n",
    "from sklearn.model_selection import train_test_split\n",
    "from sklearn.linear_model import LogisticRegression, RidgeClassifier\n",
    "from sklearn.tree import DecisionTreeClassifier\n",
    "from sklearn.naive_bayes import GaussianNB\n",
    "from sklearn.neural_network import MLPClassifier\n",
    "from sklearn.ensemble import RandomForestClassifier\n",
    "from sklearn.metrics import classification_report\n",
    "from sklearn.pipeline import Pipeline\n",
    "from sklearn.preprocessing import StandardScaler\n",
    "from sklearn.metrics import ConfusionMatrixDisplay"
   ],
   "id": "fbc121e30a2defb3",
   "outputs": [],
   "execution_count": 32
  },
  {
   "metadata": {},
   "cell_type": "markdown",
   "source": "Öncelikle kullanacağımız kütüphaneleri çağırdık.",
   "id": "14152716e6d7e64a"
  },
  {
   "metadata": {
    "ExecuteTime": {
     "end_time": "2024-05-06T13:53:06.165422Z",
     "start_time": "2024-05-06T13:53:06.067565Z"
    }
   },
   "cell_type": "code",
   "source": [
    "data = pd.read_csv(\"winequality.csv\")\n",
    "\n",
    "df = pd.DataFrame(data)\n",
    "\n",
    "df\n",
    "\n",
    "df.info()\n",
    "\n",
    "df.describe()\n",
    "\n",
    "df.head()"
   ],
   "id": "5c451ee9bf89302e",
   "outputs": [
    {
     "name": "stdout",
     "output_type": "stream",
     "text": [
      "<class 'pandas.core.frame.DataFrame'>\n",
      "RangeIndex: 1599 entries, 0 to 1598\n",
      "Data columns (total 12 columns):\n",
      " #   Column                Non-Null Count  Dtype  \n",
      "---  ------                --------------  -----  \n",
      " 0   fixed acidity         1599 non-null   float64\n",
      " 1   volatile acidity      1599 non-null   float64\n",
      " 2   citric acid           1599 non-null   float64\n",
      " 3   residual sugar        1599 non-null   float64\n",
      " 4   chlorides             1599 non-null   float64\n",
      " 5   free sulfur dioxide   1599 non-null   float64\n",
      " 6   total sulfur dioxide  1599 non-null   float64\n",
      " 7   density               1599 non-null   float64\n",
      " 8   pH                    1599 non-null   float64\n",
      " 9   sulphates             1599 non-null   float64\n",
      " 10  alcohol               1599 non-null   float64\n",
      " 11  quality               1599 non-null   int64  \n",
      "dtypes: float64(11), int64(1)\n",
      "memory usage: 150.0 KB\n"
     ]
    },
    {
     "data": {
      "text/plain": [
       "   fixed acidity  volatile acidity  citric acid  residual sugar  chlorides  \\\n",
       "0            7.4              0.70         0.00             1.9      0.076   \n",
       "1            7.8              0.88         0.00             2.6      0.098   \n",
       "2            7.8              0.76         0.04             2.3      0.092   \n",
       "3           11.2              0.28         0.56             1.9      0.075   \n",
       "4            7.4              0.70         0.00             1.9      0.076   \n",
       "\n",
       "   free sulfur dioxide  total sulfur dioxide  density    pH  sulphates  \\\n",
       "0                 11.0                  34.0   0.9978  3.51       0.56   \n",
       "1                 25.0                  67.0   0.9968  3.20       0.68   \n",
       "2                 15.0                  54.0   0.9970  3.26       0.65   \n",
       "3                 17.0                  60.0   0.9980  3.16       0.58   \n",
       "4                 11.0                  34.0   0.9978  3.51       0.56   \n",
       "\n",
       "   alcohol  quality  \n",
       "0      9.4        5  \n",
       "1      9.8        5  \n",
       "2      9.8        5  \n",
       "3      9.8        6  \n",
       "4      9.4        5  "
      ],
      "text/html": [
       "<div>\n",
       "<style scoped>\n",
       "    .dataframe tbody tr th:only-of-type {\n",
       "        vertical-align: middle;\n",
       "    }\n",
       "\n",
       "    .dataframe tbody tr th {\n",
       "        vertical-align: top;\n",
       "    }\n",
       "\n",
       "    .dataframe thead th {\n",
       "        text-align: right;\n",
       "    }\n",
       "</style>\n",
       "<table border=\"1\" class=\"dataframe\">\n",
       "  <thead>\n",
       "    <tr style=\"text-align: right;\">\n",
       "      <th></th>\n",
       "      <th>fixed acidity</th>\n",
       "      <th>volatile acidity</th>\n",
       "      <th>citric acid</th>\n",
       "      <th>residual sugar</th>\n",
       "      <th>chlorides</th>\n",
       "      <th>free sulfur dioxide</th>\n",
       "      <th>total sulfur dioxide</th>\n",
       "      <th>density</th>\n",
       "      <th>pH</th>\n",
       "      <th>sulphates</th>\n",
       "      <th>alcohol</th>\n",
       "      <th>quality</th>\n",
       "    </tr>\n",
       "  </thead>\n",
       "  <tbody>\n",
       "    <tr>\n",
       "      <th>0</th>\n",
       "      <td>7.4</td>\n",
       "      <td>0.70</td>\n",
       "      <td>0.00</td>\n",
       "      <td>1.9</td>\n",
       "      <td>0.076</td>\n",
       "      <td>11.0</td>\n",
       "      <td>34.0</td>\n",
       "      <td>0.9978</td>\n",
       "      <td>3.51</td>\n",
       "      <td>0.56</td>\n",
       "      <td>9.4</td>\n",
       "      <td>5</td>\n",
       "    </tr>\n",
       "    <tr>\n",
       "      <th>1</th>\n",
       "      <td>7.8</td>\n",
       "      <td>0.88</td>\n",
       "      <td>0.00</td>\n",
       "      <td>2.6</td>\n",
       "      <td>0.098</td>\n",
       "      <td>25.0</td>\n",
       "      <td>67.0</td>\n",
       "      <td>0.9968</td>\n",
       "      <td>3.20</td>\n",
       "      <td>0.68</td>\n",
       "      <td>9.8</td>\n",
       "      <td>5</td>\n",
       "    </tr>\n",
       "    <tr>\n",
       "      <th>2</th>\n",
       "      <td>7.8</td>\n",
       "      <td>0.76</td>\n",
       "      <td>0.04</td>\n",
       "      <td>2.3</td>\n",
       "      <td>0.092</td>\n",
       "      <td>15.0</td>\n",
       "      <td>54.0</td>\n",
       "      <td>0.9970</td>\n",
       "      <td>3.26</td>\n",
       "      <td>0.65</td>\n",
       "      <td>9.8</td>\n",
       "      <td>5</td>\n",
       "    </tr>\n",
       "    <tr>\n",
       "      <th>3</th>\n",
       "      <td>11.2</td>\n",
       "      <td>0.28</td>\n",
       "      <td>0.56</td>\n",
       "      <td>1.9</td>\n",
       "      <td>0.075</td>\n",
       "      <td>17.0</td>\n",
       "      <td>60.0</td>\n",
       "      <td>0.9980</td>\n",
       "      <td>3.16</td>\n",
       "      <td>0.58</td>\n",
       "      <td>9.8</td>\n",
       "      <td>6</td>\n",
       "    </tr>\n",
       "    <tr>\n",
       "      <th>4</th>\n",
       "      <td>7.4</td>\n",
       "      <td>0.70</td>\n",
       "      <td>0.00</td>\n",
       "      <td>1.9</td>\n",
       "      <td>0.076</td>\n",
       "      <td>11.0</td>\n",
       "      <td>34.0</td>\n",
       "      <td>0.9978</td>\n",
       "      <td>3.51</td>\n",
       "      <td>0.56</td>\n",
       "      <td>9.4</td>\n",
       "      <td>5</td>\n",
       "    </tr>\n",
       "  </tbody>\n",
       "</table>\n",
       "</div>"
      ]
     },
     "execution_count": 3,
     "metadata": {},
     "output_type": "execute_result"
    }
   ],
   "execution_count": 3
  },
  {
   "metadata": {},
   "cell_type": "markdown",
   "source": "Sonrasında kullanacağımız veri setini Python'a okutup bir veri çerçevesi (dataframe) oluşturduk.\n",
   "id": "e9291712512aa92f"
  },
  {
   "metadata": {
    "ExecuteTime": {
     "end_time": "2024-05-06T13:58:22.642662Z",
     "start_time": "2024-05-06T13:58:21.632235Z"
    }
   },
   "cell_type": "code",
   "source": [
    "corr_matrix = df.corr()\n",
    "sns.heatmap(corr_matrix, annot=True)\n",
    "plt.title('Verilerin Korelasyon Matrisi')\n",
    "plt.show()"
   ],
   "id": "b2126a48abb65f14",
   "outputs": [
    {
     "data": {
      "text/plain": [
       "<Figure size 640x480 with 2 Axes>"
      ],
      "image/png": "[encoded data removed]"
     },
     "metadata": {},
     "output_type": "display_data"
    }
   ],
   "execution_count": 5
  },
  {
   "metadata": {},
   "cell_type": "markdown",
   "source": "Özelliklerin birbiriyle arasındaki korelasyona bakmak için bir matris oluşturduk. 0'a yakın olanlar aralarında pek ilişki bulunmadığı anlamına gelmektedir. Bu yüzden 0'a yakın olanları bulup çıkarmamız gerekir.",
   "id": "39d2a1c86d40f4c7"
  },
  {
   "metadata": {
    "ExecuteTime": {
     "end_time": "2024-05-06T20:17:35.622502Z",
     "start_time": "2024-05-06T20:17:35.461866Z"
    }
   },
   "cell_type": "code",
   "source": "df.corr(numeric_only=True)[\"quality\"].sort_values(ascending=False)",
   "id": "b338656f247c4daa",
   "outputs": [
    {
     "data": {
      "text/plain": [
       "quality                 1.000000\n",
       "alcohol                 0.476166\n",
       "sulphates               0.251397\n",
       "citric acid             0.226373\n",
       "fixed acidity           0.124052\n",
       "residual sugar          0.013732\n",
       "free sulfur dioxide    -0.050656\n",
       "pH                     -0.057731\n",
       "chlorides              -0.128907\n",
       "density                -0.174919\n",
       "total sulfur dioxide   -0.185100\n",
       "volatile acidity       -0.390558\n",
       "Name: quality, dtype: float64"
      ]
     },
     "execution_count": 28,
     "metadata": {},
     "output_type": "execute_result"
    }
   ],
   "execution_count": 28
  },
  {
   "metadata": {
    "ExecuteTime": {
     "end_time": "2024-05-06T14:17:07.132225Z",
     "start_time": "2024-05-06T14:17:07.114317Z"
    }
   },
   "cell_type": "code",
   "source": [
    "threshold = 0.1\n",
    "korelasyon = abs(corr_matrix[\"quality\"])\n",
    "filtered_data = korelasyon[korelasyon>threshold]\n",
    "filtered_data"
   ],
   "id": "9aaf4981c58d8160",
   "outputs": [
    {
     "data": {
      "text/plain": [
       "fixed acidity           0.124052\n",
       "volatile acidity        0.390558\n",
       "citric acid             0.226373\n",
       "chlorides               0.128907\n",
       "total sulfur dioxide    0.185100\n",
       "density                 0.174919\n",
       "sulphates               0.251397\n",
       "alcohol                 0.476166\n",
       "quality                 1.000000\n",
       "Name: quality, dtype: float64"
      ]
     },
     "execution_count": 6,
     "metadata": {},
     "output_type": "execute_result"
    }
   ],
   "execution_count": 6
  },
  {
   "metadata": {
    "ExecuteTime": {
     "end_time": "2024-05-06T14:21:36.867126Z",
     "start_time": "2024-05-06T14:21:36.856009Z"
    }
   },
   "cell_type": "code",
   "source": [
    "kullanma = korelasyon[korelasyon<0.1]\n",
    "kullanma"
   ],
   "id": "73959ae6c65a8915",
   "outputs": [
    {
     "data": {
      "text/plain": [
       "residual sugar         0.013732\n",
       "free sulfur dioxide    0.050656\n",
       "pH                     0.057731\n",
       "Name: quality, dtype: float64"
      ]
     },
     "execution_count": 7,
     "metadata": {},
     "output_type": "execute_result"
    }
   ],
   "execution_count": 7
  },
  {
   "metadata": {},
   "cell_type": "markdown",
   "source": "Bu düşük korelasyona sahip değerler kullanmayacağımız kısım olacak.",
   "id": "a44103e89c65c668"
  },
  {
   "metadata": {
    "ExecuteTime": {
     "end_time": "2024-05-06T14:25:32.910561Z",
     "start_time": "2024-05-06T14:25:32.899135Z"
    }
   },
   "cell_type": "code",
   "source": [
    "kullanma_frame = kullanma.to_frame()\n",
    "kullanma_frame"
   ],
   "id": "7455798fd241a35f",
   "outputs": [
    {
     "data": {
      "text/plain": [
       "                      quality\n",
       "residual sugar       0.013732\n",
       "free sulfur dioxide  0.050656\n",
       "pH                   0.057731"
      ],
      "text/html": [
       "<div>\n",
       "<style scoped>\n",
       "    .dataframe tbody tr th:only-of-type {\n",
       "        vertical-align: middle;\n",
       "    }\n",
       "\n",
       "    .dataframe tbody tr th {\n",
       "        vertical-align: top;\n",
       "    }\n",
       "\n",
       "    .dataframe thead th {\n",
       "        text-align: right;\n",
       "    }\n",
       "</style>\n",
       "<table border=\"1\" class=\"dataframe\">\n",
       "  <thead>\n",
       "    <tr style=\"text-align: right;\">\n",
       "      <th></th>\n",
       "      <th>quality</th>\n",
       "    </tr>\n",
       "  </thead>\n",
       "  <tbody>\n",
       "    <tr>\n",
       "      <th>residual sugar</th>\n",
       "      <td>0.013732</td>\n",
       "    </tr>\n",
       "    <tr>\n",
       "      <th>free sulfur dioxide</th>\n",
       "      <td>0.050656</td>\n",
       "    </tr>\n",
       "    <tr>\n",
       "      <th>pH</th>\n",
       "      <td>0.057731</td>\n",
       "    </tr>\n",
       "  </tbody>\n",
       "</table>\n",
       "</div>"
      ]
     },
     "execution_count": 8,
     "metadata": {},
     "output_type": "execute_result"
    }
   ],
   "execution_count": 8
  },
  {
   "metadata": {
    "ExecuteTime": {
     "end_time": "2024-05-06T14:29:09.324956Z",
     "start_time": "2024-05-06T14:29:09.316144Z"
    }
   },
   "cell_type": "code",
   "source": [
    "row_names = kullanma_frame.index\n",
    "row_names_list = list(row_names)\n",
    "row_names_list.append('quality')\n",
    "print(row_names_list)"
   ],
   "id": "64c899fe78a81c51",
   "outputs": [
    {
     "name": "stdout",
     "output_type": "stream",
     "text": [
      "['residual sugar', 'free sulfur dioxide', 'pH', 'quality']\n"
     ]
    }
   ],
   "execution_count": 9
  },
  {
   "metadata": {},
   "cell_type": "markdown",
   "source": "Verinin tipini değiştirip bir liste şekline getirdik.",
   "id": "93c9be13622ec735"
  },
  {
   "metadata": {
    "ExecuteTime": {
     "end_time": "2024-05-06T14:45:04.601361Z",
     "start_time": "2024-05-06T14:45:04.578264Z"
    }
   },
   "cell_type": "code",
   "source": [
    "X = data.loc[:, ['residual sugar', 'free sulfur dioxide', 'pH', 'quality']]\n",
    "encoder = LabelEncoder()\n",
    "for i in X.columns:\n",
    "    X[i] = encoder.fit_transform(X[i])\n",
    "X\n"
   ],
   "id": "e3d61725ac961a31",
   "outputs": [
    {
     "data": {
      "text/plain": [
       "      residual sugar  free sulfur dioxide  pH  quality\n",
       "0                 10                   11  63        2\n",
       "1                 22                   25  32        2\n",
       "2                 17                   15  38        2\n",
       "3                 10                   17  28        3\n",
       "4                 10                   11  63        2\n",
       "...              ...                  ...  ..      ...\n",
       "1594              11                   32  57        2\n",
       "1595              15                   40  64        3\n",
       "1596              17                   29  54        3\n",
       "1597              11                   32  69        2\n",
       "1598              36                   18  51        3\n",
       "\n",
       "[1599 rows x 4 columns]"
      ],
      "text/html": [
       "<div>\n",
       "<style scoped>\n",
       "    .dataframe tbody tr th:only-of-type {\n",
       "        vertical-align: middle;\n",
       "    }\n",
       "\n",
       "    .dataframe tbody tr th {\n",
       "        vertical-align: top;\n",
       "    }\n",
       "\n",
       "    .dataframe thead th {\n",
       "        text-align: right;\n",
       "    }\n",
       "</style>\n",
       "<table border=\"1\" class=\"dataframe\">\n",
       "  <thead>\n",
       "    <tr style=\"text-align: right;\">\n",
       "      <th></th>\n",
       "      <th>residual sugar</th>\n",
       "      <th>free sulfur dioxide</th>\n",
       "      <th>pH</th>\n",
       "      <th>quality</th>\n",
       "    </tr>\n",
       "  </thead>\n",
       "  <tbody>\n",
       "    <tr>\n",
       "      <th>0</th>\n",
       "      <td>10</td>\n",
       "      <td>11</td>\n",
       "      <td>63</td>\n",
       "      <td>2</td>\n",
       "    </tr>\n",
       "    <tr>\n",
       "      <th>1</th>\n",
       "      <td>22</td>\n",
       "      <td>25</td>\n",
       "      <td>32</td>\n",
       "      <td>2</td>\n",
       "    </tr>\n",
       "    <tr>\n",
       "      <th>2</th>\n",
       "      <td>17</td>\n",
       "      <td>15</td>\n",
       "      <td>38</td>\n",
       "      <td>2</td>\n",
       "    </tr>\n",
       "    <tr>\n",
       "      <th>3</th>\n",
       "      <td>10</td>\n",
       "      <td>17</td>\n",
       "      <td>28</td>\n",
       "      <td>3</td>\n",
       "    </tr>\n",
       "    <tr>\n",
       "      <th>4</th>\n",
       "      <td>10</td>\n",
       "      <td>11</td>\n",
       "      <td>63</td>\n",
       "      <td>2</td>\n",
       "    </tr>\n",
       "    <tr>\n",
       "      <th>...</th>\n",
       "      <td>...</td>\n",
       "      <td>...</td>\n",
       "      <td>...</td>\n",
       "      <td>...</td>\n",
       "    </tr>\n",
       "    <tr>\n",
       "      <th>1594</th>\n",
       "      <td>11</td>\n",
       "      <td>32</td>\n",
       "      <td>57</td>\n",
       "      <td>2</td>\n",
       "    </tr>\n",
       "    <tr>\n",
       "      <th>1595</th>\n",
       "      <td>15</td>\n",
       "      <td>40</td>\n",
       "      <td>64</td>\n",
       "      <td>3</td>\n",
       "    </tr>\n",
       "    <tr>\n",
       "      <th>1596</th>\n",
       "      <td>17</td>\n",
       "      <td>29</td>\n",
       "      <td>54</td>\n",
       "      <td>3</td>\n",
       "    </tr>\n",
       "    <tr>\n",
       "      <th>1597</th>\n",
       "      <td>11</td>\n",
       "      <td>32</td>\n",
       "      <td>69</td>\n",
       "      <td>2</td>\n",
       "    </tr>\n",
       "    <tr>\n",
       "      <th>1598</th>\n",
       "      <td>36</td>\n",
       "      <td>18</td>\n",
       "      <td>51</td>\n",
       "      <td>3</td>\n",
       "    </tr>\n",
       "  </tbody>\n",
       "</table>\n",
       "<p>1599 rows × 4 columns</p>\n",
       "</div>"
      ]
     },
     "execution_count": 19,
     "metadata": {},
     "output_type": "execute_result"
    }
   ],
   "execution_count": 19
  },
  {
   "metadata": {
    "ExecuteTime": {
     "end_time": "2024-05-06T14:55:40.038700Z",
     "start_time": "2024-05-06T14:55:40.026991Z"
    }
   },
   "cell_type": "code",
   "source": [
    "y = data.loc[:, [\"quality\"]]\n",
    "y = encoder.fit_transform(y.values.ravel())\n",
    "y"
   ],
   "id": "b8498b1c5a92a4a0",
   "outputs": [
    {
     "data": {
      "text/plain": [
       "array([2, 2, 2, ..., 3, 2, 3], dtype=int64)"
      ]
     },
     "execution_count": 22,
     "metadata": {},
     "output_type": "execute_result"
    }
   ],
   "execution_count": 22
  },
  {
   "metadata": {},
   "cell_type": "markdown",
   "source": "X ve y değişkenleri atayıp verileri eğitmek ve test etmek için ön işlemden geçirdik.",
   "id": "17cefb124f1e5d72"
  },
  {
   "metadata": {
    "ExecuteTime": {
     "end_time": "2024-05-06T20:19:22.439666Z",
     "start_time": "2024-05-06T20:19:11.304457Z"
    }
   },
   "cell_type": "code",
   "source": [
    "steps = [('scaler', StandardScaler()),\n",
    "('dec_tree', DecisionTreeClassifier())]\n",
    "\n",
    "pipeline = Pipeline(steps)\n",
    "\n",
    "X_train, X_test, y_train, y_test = train_test_split(X, y, test_size=0.2, random_state = 1)\n",
    "params = {\"dec_tree__criterion\":['gini', 'entropy'],\n",
    "         \"dec_tree__max_depth\":np.arange(3, 15)\n",
    "         }\n",
    "\n",
    "from sklearn.model_selection import GridSearchCV\n",
    "for cv in range(3,10):\n",
    "    cv_grid = GridSearchCV(pipeline, param_grid=params,cv=cv)\n",
    "    cv_grid.fit(X_train, y_train)\n",
    "    print(\"%d fold score: %3.2f\" %(cv,cv_grid.score(X_test, y_test)))\n",
    "    print(\"Best parameters: \", cv_grid.best_params_)"
   ],
   "id": "3bacb60208493e07",
   "outputs": [
    {
     "name": "stdout",
     "output_type": "stream",
     "text": [
      "3 fold score: 1.00\n",
      "Best parameters:  {'dec_tree__criterion': 'gini', 'dec_tree__max_depth': 3}\n",
      "4 fold score: 1.00\n",
      "Best parameters:  {'dec_tree__criterion': 'gini', 'dec_tree__max_depth': 3}\n",
      "5 fold score: 1.00\n",
      "Best parameters:  {'dec_tree__criterion': 'gini', 'dec_tree__max_depth': 3}\n",
      "6 fold score: 1.00\n",
      "Best parameters:  {'dec_tree__criterion': 'gini', 'dec_tree__max_depth': 3}\n",
      "7 fold score: 1.00\n",
      "Best parameters:  {'dec_tree__criterion': 'gini', 'dec_tree__max_depth': 3}\n",
      "8 fold score: 1.00\n",
      "Best parameters:  {'dec_tree__criterion': 'gini', 'dec_tree__max_depth': 3}\n",
      "9 fold score: 1.00\n",
      "Best parameters:  {'dec_tree__criterion': 'gini', 'dec_tree__max_depth': 3}\n"
     ]
    }
   ],
   "execution_count": 29
  },
  {
   "metadata": {},
   "cell_type": "markdown",
   "source": "En iyi kriter gini ve maksimum derinlik 3 olduğuna karar veririz.",
   "id": "5a039ee77bcfd06f"
  },
  {
   "metadata": {
    "ExecuteTime": {
     "end_time": "2024-05-06T20:20:42.038295Z",
     "start_time": "2024-05-06T20:20:42.023799Z"
    }
   },
   "cell_type": "code",
   "source": [
    "scaler = StandardScaler()\n",
    "X_train_scaled = scaler.fit_transform(X_train)\n",
    "X_test_scaled = scaler.transform(X_test)"
   ],
   "id": "c083aa81af93b93d",
   "outputs": [],
   "execution_count": 30
  },
  {
   "metadata": {},
   "cell_type": "markdown",
   "source": "Veriyi standartlaştırdık.",
   "id": "3ce42e10042378d6"
  },
  {
   "metadata": {
    "ExecuteTime": {
     "end_time": "2024-05-06T20:21:41.088261Z",
     "start_time": "2024-05-06T20:21:41.081115Z"
    }
   },
   "cell_type": "code",
   "source": [
    "print(\"X_train_scaled shape:\",X_train.shape)\n",
    "print(\"X_test_scaled shape:\",X_test.shape)\n",
    "print(\"y_train shape:\",y_train.shape)\n",
    "print(\"y_test shape:\",y_test.shape)"
   ],
   "id": "5627acd1607a45e0",
   "outputs": [
    {
     "name": "stdout",
     "output_type": "stream",
     "text": [
      "X_train_scaled shape: (1279, 4)\n",
      "X_test_scaled shape: (320, 4)\n",
      "y_train shape: (1279,)\n",
      "y_test shape: (320,)\n"
     ]
    }
   ],
   "execution_count": 31
  },
  {
   "metadata": {
    "ExecuteTime": {
     "end_time": "2024-05-06T19:19:02.284627Z",
     "start_time": "2024-05-06T19:19:02.228991Z"
    }
   },
   "cell_type": "code",
   "source": [
    "karar_agaci = DecisionTreeClassifier(criterion='gini', max_depth=3)\n",
    "karar_agaci.fit(X_train, y_train)\n",
    "y_pred = karar_agaci.predict(X_test)\n",
    "print(classification_report(y_test, y_pred))"
   ],
   "id": "9ffc9ffb55ee2fb0",
   "outputs": [
    {
     "name": "stdout",
     "output_type": "stream",
     "text": [
      "              precision    recall  f1-score   support\n",
      "\n",
      "           0       1.00      1.00      1.00         3\n",
      "           1       1.00      1.00      1.00         9\n",
      "           2       1.00      1.00      1.00       130\n",
      "           3       1.00      1.00      1.00       128\n",
      "           4       1.00      1.00      1.00        44\n",
      "           5       1.00      1.00      1.00         6\n",
      "\n",
      "    accuracy                           1.00       320\n",
      "   macro avg       1.00      1.00      1.00       320\n",
      "weighted avg       1.00      1.00      1.00       320\n",
      "\n"
     ]
    }
   ],
   "execution_count": 27
  },
  {
   "metadata": {},
   "cell_type": "markdown",
   "source": "Çalıştırdığımızda F1 skoru ile modelimizi doğruladık.",
   "id": "ee1f23bf68ea7ea0"
  }
 ],
 "metadata": {
  "kernelspec": {
   "display_name": "Python 3",
   "language": "python",
   "name": "python3"
  },
  "language_info": {
   "codemirror_mode": {
    "name": "ipython",
    "version": 2
   },
   "file_extension": ".py",
   "mimetype": "text/x-python",
   "name": "python",
   "nbconvert_exporter": "python",
   "pygments_lexer": "ipython2",
   "version": "2.7.6"
  }
 },
 "nbformat": 4,
 "nbformat_minor": 5
}
